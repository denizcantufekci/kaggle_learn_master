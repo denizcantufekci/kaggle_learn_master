{
  "nbformat": 4,
  "nbformat_minor": 0,
  "metadata": {
    "colab": {
      "name": "Untitled1.ipynb",
      "provenance": []
    },
    "kernelspec": {
      "name": "python3",
      "display_name": "Python 3"
    }
  },
  "cells": [
    {
      "cell_type": "code",
      "metadata": {
        "id": "C-QLPhAzMo03",
        "colab_type": "code",
        "colab": {
          "base_uri": "https://localhost:8080/",
          "height": 52
        },
        "outputId": "0a51aac4-8747-433f-d613-fa0e807361c4"
      },
      "source": [
        "print(\"You've succesfully run some Python code\")\n",
        "print(\"Congratulations\")"
      ],
      "execution_count": 1,
      "outputs": [
        {
          "output_type": "stream",
          "text": [
            "You've succesfully run some Python code\n",
            "Congratulations\n"
          ],
          "name": "stdout"
        }
      ]
    },
    {
      "cell_type": "code",
      "metadata": {
        "id": "q-HL8xxKMrtT",
        "colab_type": "code",
        "colab": {
          "base_uri": "https://localhost:8080/",
          "height": 211
        },
        "outputId": "5371052b-2df6-4473-e42d-eadcc554f475"
      },
      "source": [
        "!pip install git+https://github.com/Kaggle/learntools.git"
      ],
      "execution_count": 2,
      "outputs": [
        {
          "output_type": "stream",
          "text": [
            "Collecting git+https://github.com/Kaggle/learntools.git\n",
            "  Cloning https://github.com/Kaggle/learntools.git to /tmp/pip-req-build-v_ylfbpi\n",
            "  Running command git clone -q https://github.com/Kaggle/learntools.git /tmp/pip-req-build-v_ylfbpi\n",
            "Building wheels for collected packages: learntools\n",
            "  Building wheel for learntools (setup.py) ... \u001b[?25l\u001b[?25hdone\n",
            "  Created wheel for learntools: filename=learntools-0.3.4-cp36-none-any.whl size=199175 sha256=8e9f8cb230821cb75cf12759012bc2614501be99e12278fc264f3fef19d1f10b\n",
            "  Stored in directory: /tmp/pip-ephem-wheel-cache-2mhn5bqc/wheels/be/e6/c1/ea4ee69de95f8f0e627b7a26125e8348391eaf84cb7015e68f\n",
            "Successfully built learntools\n",
            "Installing collected packages: learntools\n",
            "Successfully installed learntools-0.3.4\n"
          ],
          "name": "stdout"
        }
      ]
    },
    {
      "cell_type": "code",
      "metadata": {
        "id": "J2GtL3JhMxpH",
        "colab_type": "code",
        "colab": {
          "base_uri": "https://localhost:8080/",
          "height": 35
        },
        "outputId": "63bb17ee-ae00-4418-a2bc-8ac101180b3a"
      },
      "source": [
        "from learntools.core import binder; binder.bind(globals())\n",
        "from learntools.python.ex1 import *\n",
        "print(\"Setup complete! You're ready to start question 0.\")"
      ],
      "execution_count": 3,
      "outputs": [
        {
          "output_type": "stream",
          "text": [
            "Setup complete! You're ready to start question 0.\n"
          ],
          "name": "stdout"
        }
      ]
    },
    {
      "cell_type": "code",
      "metadata": {
        "id": "UgEd1eM3MzBC",
        "colab_type": "code",
        "colab": {}
      },
      "source": [
        "color = \"red\""
      ],
      "execution_count": 4,
      "outputs": []
    },
    {
      "cell_type": "code",
      "metadata": {
        "id": "w-oLXT0zSD5D",
        "colab_type": "code",
        "colab": {
          "base_uri": "https://localhost:8080/",
          "height": 64
        },
        "outputId": "e1c1aec1-6e15-4060-eac2-07e3af583fa1"
      },
      "source": [
        "q0.check()"
      ],
      "execution_count": 5,
      "outputs": [
        {
          "output_type": "display_data",
          "data": {
            "application/javascript": [
              "parent.postMessage({\"jupyterEvent\": \"custom.exercise_interaction\", \"data\": {\"outcomeType\": 2, \"failureMessage\": \"red is not your favorite color! Well, maybe it is, but we're writing the rules. The point of this question is to force you to get some practice asking for a hint. Go ahead and uncomment the call to `q0.hint()` in the code cell below, for a hint at what your favorite color *really* is.\", \"interactionType\": 1, \"questionType\": 1, \"questionId\": \"0_ExerciseFormatTutorial\", \"learnToolsVersion\": \"0.3.4\", \"valueTowardsCompletion\": 0.0, \"exceptionClass\": \"\", \"trace\": \"\"}}, \"*\")"
            ],
            "text/plain": [
              "<IPython.core.display.Javascript object>"
            ]
          },
          "metadata": {
            "tags": []
          }
        },
        {
          "output_type": "display_data",
          "data": {
            "text/markdown": "<span style=\"color:#cc3333\">Incorrect:</span> red is not your favorite color! Well, maybe it is, but we're writing the rules. The point of this question is to force you to get some practice asking for a hint. Go ahead and uncomment the call to `q0.hint()` in the code cell below, for a hint at what your favorite color *really* is.",
            "text/plain": [
              "Incorrect: red is not your favorite color! Well, maybe it is, but we're writing the rules. The point of this question is to force you to get some practice asking for a hint. Go ahead and uncomment the call to `q0.hint()` in the code cell below, for a hint at what your favorite color *really* is."
            ]
          },
          "metadata": {
            "tags": []
          }
        }
      ]
    },
    {
      "cell_type": "code",
      "metadata": {
        "id": "v2lw3xYgSJDO",
        "colab_type": "code",
        "colab": {
          "base_uri": "https://localhost:8080/",
          "height": 47
        },
        "outputId": "5b754990-1cd1-467a-9dbc-11db5c59877b"
      },
      "source": [
        "q0.hint()"
      ],
      "execution_count": 6,
      "outputs": [
        {
          "output_type": "display_data",
          "data": {
            "application/javascript": [
              "parent.postMessage({\"jupyterEvent\": \"custom.exercise_interaction\", \"data\": {\"interactionType\": 2, \"questionType\": 1, \"questionId\": \"0_ExerciseFormatTutorial\", \"learnToolsVersion\": \"0.3.4\", \"valueTowardsCompletion\": 0.0, \"failureMessage\": \"\", \"exceptionClass\": \"\", \"trace\": \"\", \"outcomeType\": 4}}, \"*\")"
            ],
            "text/plain": [
              "<IPython.core.display.Javascript object>"
            ]
          },
          "metadata": {
            "tags": []
          }
        },
        {
          "output_type": "display_data",
          "data": {
            "text/markdown": "<span style=\"color:#3366cc\">Hint:</span> Your favorite color rhymes with *glue*.",
            "text/plain": [
              "Hint: Your favorite color rhymes with *glue*."
            ]
          },
          "metadata": {
            "tags": []
          }
        }
      ]
    },
    {
      "cell_type": "code",
      "metadata": {
        "id": "0qycYMLuSOmq",
        "colab_type": "code",
        "colab": {
          "base_uri": "https://localhost:8080/",
          "height": 64
        },
        "outputId": "0f890119-6ecd-4a35-9898-12ffcd62e0df"
      },
      "source": [
        "q0.solution()"
      ],
      "execution_count": 7,
      "outputs": [
        {
          "output_type": "display_data",
          "data": {
            "application/javascript": [
              "parent.postMessage({\"jupyterEvent\": \"custom.exercise_interaction\", \"data\": {\"interactionType\": 3, \"questionType\": 1, \"questionId\": \"0_ExerciseFormatTutorial\", \"learnToolsVersion\": \"0.3.4\", \"valueTowardsCompletion\": 0.0, \"failureMessage\": \"\", \"exceptionClass\": \"\", \"trace\": \"\", \"outcomeType\": 4}}, \"*\")"
            ],
            "text/plain": [
              "<IPython.core.display.Javascript object>"
            ]
          },
          "metadata": {
            "tags": []
          }
        },
        {
          "output_type": "display_data",
          "data": {
            "text/markdown": "<span style=\"color:#33cc99\">Solution:</span> \n```python\ncolor = \"blue\"\n```",
            "text/plain": [
              "Solution: \n",
              "```python\n",
              "color = \"blue\"\n",
              "```"
            ]
          },
          "metadata": {
            "tags": []
          }
        }
      ]
    },
    {
      "cell_type": "code",
      "metadata": {
        "id": "JFd_BSYcSSvi",
        "colab_type": "code",
        "colab": {}
      },
      "source": [
        "color = \"blue\""
      ],
      "execution_count": 8,
      "outputs": []
    },
    {
      "cell_type": "code",
      "metadata": {
        "id": "6iKfzr3lSWGp",
        "colab_type": "code",
        "colab": {
          "base_uri": "https://localhost:8080/",
          "height": 47
        },
        "outputId": "d4e9dfb9-1fdd-417b-d9b1-e75d4884d2cc"
      },
      "source": [
        "q0.check()"
      ],
      "execution_count": 9,
      "outputs": [
        {
          "output_type": "display_data",
          "data": {
            "application/javascript": [
              "parent.postMessage({\"jupyterEvent\": \"custom.exercise_interaction\", \"data\": {\"outcomeType\": 1, \"valueTowardsCompletion\": 0.25, \"interactionType\": 1, \"questionType\": 1, \"questionId\": \"0_ExerciseFormatTutorial\", \"learnToolsVersion\": \"0.3.4\", \"failureMessage\": \"\", \"exceptionClass\": \"\", \"trace\": \"\"}}, \"*\")"
            ],
            "text/plain": [
              "<IPython.core.display.Javascript object>"
            ]
          },
          "metadata": {
            "tags": []
          }
        },
        {
          "output_type": "display_data",
          "data": {
            "text/markdown": "<span style=\"color:#33cc33\">Correct</span>",
            "text/plain": [
              "Correct"
            ]
          },
          "metadata": {
            "tags": []
          }
        }
      ]
    },
    {
      "cell_type": "code",
      "metadata": {
        "id": "qjDYcfOyTpBJ",
        "colab_type": "code",
        "colab": {
          "base_uri": "https://localhost:8080/",
          "height": 47
        },
        "outputId": "fc15b39a-cffb-495c-813d-fae5145818d8"
      },
      "source": [
        "pi = 3.14159\n",
        "diameter = 3\n",
        "radius = diameter / 2\n",
        "area = pi * radius ** 2\n",
        "q1.check()"
      ],
      "execution_count": 10,
      "outputs": [
        {
          "output_type": "display_data",
          "data": {
            "application/javascript": [
              "parent.postMessage({\"jupyterEvent\": \"custom.exercise_interaction\", \"data\": {\"outcomeType\": 1, \"valueTowardsCompletion\": 0.25, \"interactionType\": 1, \"questionType\": 1, \"questionId\": \"1_CircleArea\", \"learnToolsVersion\": \"0.3.4\", \"failureMessage\": \"\", \"exceptionClass\": \"\", \"trace\": \"\"}}, \"*\")"
            ],
            "text/plain": [
              "<IPython.core.display.Javascript object>"
            ]
          },
          "metadata": {
            "tags": []
          }
        },
        {
          "output_type": "display_data",
          "data": {
            "text/markdown": "<span style=\"color:#33cc33\">Correct</span>",
            "text/plain": [
              "Correct"
            ]
          },
          "metadata": {
            "tags": []
          }
        }
      ]
    },
    {
      "cell_type": "code",
      "metadata": {
        "id": "v0GYeYXLTrl5",
        "colab_type": "code",
        "colab": {
          "base_uri": "https://localhost:8080/",
          "height": 35
        },
        "outputId": "69e44f9c-4f65-45e3-d4d2-bcf2cdd74aa2"
      },
      "source": [
        "print(\"Question 1 complete! You're ready to start question 2.\")"
      ],
      "execution_count": 11,
      "outputs": [
        {
          "output_type": "stream",
          "text": [
            "Question 1 complete! You're ready to start question 2.\n"
          ],
          "name": "stdout"
        }
      ]
    },
    {
      "cell_type": "code",
      "metadata": {
        "id": "gqxAZavoUExW",
        "colab_type": "code",
        "colab": {
          "base_uri": "https://localhost:8080/",
          "height": 198
        },
        "outputId": "af99efa0-a8a2-45f9-8403-9a39f47ca695"
      },
      "source": [
        "a = [1, 2, 3]\n",
        "b = [3, 2, 1]\n",
        "q2.store_original_ids()\n",
        "a, b = b, a\n",
        "q2.check()"
      ],
      "execution_count": 12,
      "outputs": [
        {
          "output_type": "display_data",
          "data": {
            "application/javascript": [
              "parent.postMessage({\"jupyterEvent\": \"custom.exercise_interaction\", \"data\": {\"outcomeType\": 1, \"valueTowardsCompletion\": 0.25, \"interactionType\": 1, \"questionType\": 2, \"questionId\": \"2_VariableSwap\", \"learnToolsVersion\": \"0.3.4\", \"failureMessage\": \"\", \"exceptionClass\": \"\", \"trace\": \"\"}}, \"*\")"
            ],
            "text/plain": [
              "<IPython.core.display.Javascript object>"
            ]
          },
          "metadata": {
            "tags": []
          }
        },
        {
          "output_type": "display_data",
          "data": {
            "text/markdown": "<span style=\"color:#33cc33\">Correct:</span> \n\nThe most straightforward solution is to use a third variable to temporarily store one of the old values. e.g.:\n\n    tmp = a\n    a = b\n    b = tmp\n\nIf you've read lots of Python code, you might have seen the following trick to swap two variables in one line:\n\n    a, b = b, a\n\nWe'll demystify this bit of Python magic later when we talk about *tuples*.",
            "text/plain": [
              "Correct: \n",
              "\n",
              "The most straightforward solution is to use a third variable to temporarily store one of the old values. e.g.:\n",
              "\n",
              "    tmp = a\n",
              "    a = b\n",
              "    b = tmp\n",
              "\n",
              "If you've read lots of Python code, you might have seen the following trick to swap two variables in one line:\n",
              "\n",
              "    a, b = b, a\n",
              "\n",
              "We'll demystify this bit of Python magic later when we talk about *tuples*."
            ]
          },
          "metadata": {
            "tags": []
          }
        }
      ]
    },
    {
      "cell_type": "code",
      "metadata": {
        "id": "lOSD_JPGU6o2",
        "colab_type": "code",
        "colab": {}
      },
      "source": [
        "#If you can't find the solution, you can use these things.\n",
        "#q2.hint()\n",
        "#q2.solution()"
      ],
      "execution_count": 13,
      "outputs": []
    },
    {
      "cell_type": "code",
      "metadata": {
        "id": "OKvwFoTWVUHI",
        "colab_type": "code",
        "colab": {
          "base_uri": "https://localhost:8080/",
          "height": 35
        },
        "outputId": "0ae78eb2-3812-4164-d305-684e08e20aaa"
      },
      "source": [
        "print(\"Now question 3.\")"
      ],
      "execution_count": 14,
      "outputs": [
        {
          "output_type": "stream",
          "text": [
            "Now question 3.\n"
          ],
          "name": "stdout"
        }
      ]
    },
    {
      "cell_type": "code",
      "metadata": {
        "id": "zeseDS7cVe1p",
        "colab_type": "code",
        "colab": {
          "base_uri": "https://localhost:8080/",
          "height": 35
        },
        "outputId": "a27f4acc-43d1-42e3-e734-d2b3d6341a75"
      },
      "source": [
        "(5 - 3) // 2"
      ],
      "execution_count": 15,
      "outputs": [
        {
          "output_type": "execute_result",
          "data": {
            "text/plain": [
              "1"
            ]
          },
          "metadata": {
            "tags": []
          },
          "execution_count": 15
        }
      ]
    },
    {
      "cell_type": "code",
      "metadata": {
        "id": "byqop5OdV7q7",
        "colab_type": "code",
        "colab": {
          "base_uri": "https://localhost:8080/",
          "height": 64
        },
        "outputId": "7efa6bb0-bc77-438e-c959-d1a044a38d28"
      },
      "source": [
        "q3.a.solution()"
      ],
      "execution_count": 16,
      "outputs": [
        {
          "output_type": "display_data",
          "data": {
            "application/javascript": [
              "parent.postMessage({\"jupyterEvent\": \"custom.exercise_interaction\", \"data\": {\"interactionType\": 3, \"questionType\": 4, \"questionId\": \"3.1_ArithmeticParensEasy\", \"learnToolsVersion\": \"0.3.4\", \"valueTowardsCompletion\": 0.0, \"failureMessage\": \"\", \"exceptionClass\": \"\", \"trace\": \"\", \"outcomeType\": 4}}, \"*\")"
            ],
            "text/plain": [
              "<IPython.core.display.Javascript object>"
            ]
          },
          "metadata": {
            "tags": []
          }
        },
        {
          "output_type": "display_data",
          "data": {
            "text/markdown": "<span style=\"color:#33cc99\">Solution:</span> \n```python\n(5 - 3) // 2\n```",
            "text/plain": [
              "Solution: \n",
              "```python\n",
              "(5 - 3) // 2\n",
              "```"
            ]
          },
          "metadata": {
            "tags": []
          }
        }
      ]
    },
    {
      "cell_type": "code",
      "metadata": {
        "id": "yX6CEogTWCq0",
        "colab_type": "code",
        "colab": {
          "base_uri": "https://localhost:8080/",
          "height": 35
        },
        "outputId": "4332dda5-ec7d-4503-e28a-81cdb278634e"
      },
      "source": [
        "8 - (3 * 2) - (1 + 1)"
      ],
      "execution_count": 17,
      "outputs": [
        {
          "output_type": "execute_result",
          "data": {
            "text/plain": [
              "0"
            ]
          },
          "metadata": {
            "tags": []
          },
          "execution_count": 17
        }
      ]
    },
    {
      "cell_type": "code",
      "metadata": {
        "id": "q-9lrWNLWz5s",
        "colab_type": "code",
        "colab": {
          "base_uri": "https://localhost:8080/",
          "height": 47
        },
        "outputId": "683443bf-423c-414a-c8c2-693d8bf64484"
      },
      "source": [
        "q3.b.solution()"
      ],
      "execution_count": 18,
      "outputs": [
        {
          "output_type": "display_data",
          "data": {
            "application/javascript": [
              "parent.postMessage({\"jupyterEvent\": \"custom.exercise_interaction\", \"data\": {\"interactionType\": 3, \"questionType\": 4, \"questionId\": \"3.2_ArithmeticParensHard\", \"learnToolsVersion\": \"0.3.4\", \"valueTowardsCompletion\": 0.0, \"failureMessage\": \"\", \"exceptionClass\": \"\", \"trace\": \"\", \"outcomeType\": 4}}, \"*\")"
            ],
            "text/plain": [
              "<IPython.core.display.Javascript object>"
            ]
          },
          "metadata": {
            "tags": []
          }
        },
        {
          "output_type": "display_data",
          "data": {
            "text/markdown": "<span style=\"color:#33cc99\">Solution:</span> `(8 - 3) * (2 - (1 + 1))` is one solution. There may be others.",
            "text/plain": [
              "Solution: `(8 - 3) * (2 - (1 + 1))` is one solution. There may be others."
            ]
          },
          "metadata": {
            "tags": []
          }
        }
      ]
    },
    {
      "cell_type": "code",
      "metadata": {
        "id": "b7QzWSi-Z7rI",
        "colab_type": "code",
        "colab": {
          "base_uri": "https://localhost:8080/",
          "height": 35
        },
        "outputId": "b9c77d07-273d-4f98-de12-34e081d994d1"
      },
      "source": [
        "print(\"Finally, question 4.\")"
      ],
      "execution_count": 19,
      "outputs": [
        {
          "output_type": "stream",
          "text": [
            "Finally, question 4.\n"
          ],
          "name": "stdout"
        }
      ]
    },
    {
      "cell_type": "code",
      "metadata": {
        "id": "X3PlQw8CaRUN",
        "colab_type": "code",
        "colab": {
          "base_uri": "https://localhost:8080/",
          "height": 47
        },
        "outputId": "7d5d80ab-3cb2-4a62-caa1-aeee059b15e4"
      },
      "source": [
        "alice_candies = 121\n",
        "bob_candies = 77\n",
        "carol_candies = 109\n",
        "to_smash = (alice_candies + bob_candies + carol_candies) % 3\n",
        "q4.check()"
      ],
      "execution_count": 20,
      "outputs": [
        {
          "output_type": "display_data",
          "data": {
            "application/javascript": [
              "parent.postMessage({\"jupyterEvent\": \"custom.exercise_interaction\", \"data\": {\"outcomeType\": 1, \"valueTowardsCompletion\": 0.25, \"interactionType\": 1, \"questionType\": 1, \"questionId\": \"4_CandySplitting\", \"learnToolsVersion\": \"0.3.4\", \"failureMessage\": \"\", \"exceptionClass\": \"\", \"trace\": \"\"}}, \"*\")"
            ],
            "text/plain": [
              "<IPython.core.display.Javascript object>"
            ]
          },
          "metadata": {
            "tags": []
          }
        },
        {
          "output_type": "display_data",
          "data": {
            "text/markdown": "<span style=\"color:#33cc33\">Correct</span>",
            "text/plain": [
              "Correct"
            ]
          },
          "metadata": {
            "tags": []
          }
        }
      ]
    },
    {
      "cell_type": "code",
      "metadata": {
        "id": "zUJrtcX9adGz",
        "colab_type": "code",
        "colab": {
          "base_uri": "https://localhost:8080/",
          "height": 47
        },
        "outputId": "40db6ddb-369b-4098-b1af-dfe6045f6812"
      },
      "source": [
        "# Or, it'll be like this..\n",
        "alice_candies = 121\n",
        "bob_candies = 77\n",
        "carol_candies = 109\n",
        "\n",
        "total_candies = alice_candies+bob_candies+carol_candies\n",
        "candies_per_person = total_candies // 3\n",
        "leftover_candies = total_candies - candies_per_person * 3\n",
        "\n",
        "to_smash = leftover_candies\n",
        "q4.check()"
      ],
      "execution_count": 21,
      "outputs": [
        {
          "output_type": "display_data",
          "data": {
            "application/javascript": [
              "parent.postMessage({\"jupyterEvent\": \"custom.exercise_interaction\", \"data\": {\"outcomeType\": 1, \"valueTowardsCompletion\": 0.25, \"interactionType\": 1, \"questionType\": 1, \"questionId\": \"4_CandySplitting\", \"learnToolsVersion\": \"0.3.4\", \"failureMessage\": \"\", \"exceptionClass\": \"\", \"trace\": \"\"}}, \"*\")"
            ],
            "text/plain": [
              "<IPython.core.display.Javascript object>"
            ]
          },
          "metadata": {
            "tags": []
          }
        },
        {
          "output_type": "display_data",
          "data": {
            "text/markdown": "<span style=\"color:#33cc33\">Correct</span>",
            "text/plain": [
              "Correct"
            ]
          },
          "metadata": {
            "tags": []
          }
        }
      ]
    }
  ]
}