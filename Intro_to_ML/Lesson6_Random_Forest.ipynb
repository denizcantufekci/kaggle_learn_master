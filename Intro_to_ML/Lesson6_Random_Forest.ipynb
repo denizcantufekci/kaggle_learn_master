{
  "nbformat": 4,
  "nbformat_minor": 0,
  "metadata": {
    "colab": {
      "name": "Untitled0.ipynb",
      "provenance": [],
      "authorship_tag": "ABX9TyMgzroIV0NX8ENYsfAV+aUn",
      "include_colab_link": true
    },
    "kernelspec": {
      "name": "python3",
      "display_name": "Python 3"
    }
  },
  "cells": [
    {
      "cell_type": "markdown",
      "metadata": {
        "id": "view-in-github",
        "colab_type": "text"
      },
      "source": [
        "<a href=\"https://colab.research.google.com/github/denizcantufekci/kaggle_learn_master/blob/master/Intro_to_ML/Lesson6_Random_Forest.ipynb\" target=\"_parent\"><img src=\"https://colab.research.google.com/assets/colab-badge.svg\" alt=\"Open In Colab\"/></a>"
      ]
    },
    {
      "cell_type": "code",
      "metadata": {
        "id": "buEEnXvBv9Vb",
        "colab_type": "code",
        "colab": {
          "base_uri": "https://localhost:8080/",
          "height": 211
        },
        "outputId": "87e2d759-2d26-48a5-d09d-95b8d1935879"
      },
      "source": [
        "!pip install git+https://github.com/Kaggle/learntools.git"
      ],
      "execution_count": 1,
      "outputs": [
        {
          "output_type": "stream",
          "text": [
            "Collecting git+https://github.com/Kaggle/learntools.git\n",
            "  Cloning https://github.com/Kaggle/learntools.git to /tmp/pip-req-build-9aqvq1et\n",
            "  Running command git clone -q https://github.com/Kaggle/learntools.git /tmp/pip-req-build-9aqvq1et\n",
            "Building wheels for collected packages: learntools\n",
            "  Building wheel for learntools (setup.py) ... \u001b[?25l\u001b[?25hdone\n",
            "  Created wheel for learntools: filename=learntools-0.3.4-cp36-none-any.whl size=198814 sha256=ed3e921cca6287ea2ef5ee477afb227de3471a4ac102ea85be26c33259ed9609\n",
            "  Stored in directory: /tmp/pip-ephem-wheel-cache-twh49k79/wheels/be/e6/c1/ea4ee69de95f8f0e627b7a26125e8348391eaf84cb7015e68f\n",
            "Successfully built learntools\n",
            "Installing collected packages: learntools\n",
            "Successfully installed learntools-0.3.4\n"
          ],
          "name": "stdout"
        }
      ]
    },
    {
      "cell_type": "code",
      "metadata": {
        "id": "_WQqIlT6yq1e",
        "colab_type": "code",
        "colab": {
          "base_uri": "https://localhost:8080/",
          "height": 124
        },
        "outputId": "06345d21-49d9-4de5-a884-d55f4b987f6f"
      },
      "source": [
        "from google.colab import drive\n",
        "drive.mount('/content/drive')"
      ],
      "execution_count": 2,
      "outputs": [
        {
          "output_type": "stream",
          "text": [
            "Go to this URL in a browser: https://accounts.google.com/o/oauth2/auth?client_id=947318989803-6bn6qk8qdgf4n4g3pfee6491hc0brc4i.apps.googleusercontent.com&redirect_uri=urn%3aietf%3awg%3aoauth%3a2.0%3aoob&response_type=code&scope=email%20https%3a%2f%2fwww.googleapis.com%2fauth%2fdocs.test%20https%3a%2f%2fwww.googleapis.com%2fauth%2fdrive%20https%3a%2f%2fwww.googleapis.com%2fauth%2fdrive.photos.readonly%20https%3a%2f%2fwww.googleapis.com%2fauth%2fpeopleapi.readonly\n",
            "\n",
            "Enter your authorization code:\n",
            "··········\n",
            "Mounted at /content/drive\n"
          ],
          "name": "stdout"
        }
      ]
    },
    {
      "cell_type": "code",
      "metadata": {
        "id": "SJO-Cznlzs58",
        "colab_type": "code",
        "colab": {}
      },
      "source": [
        "import pandas as pd\n",
        "iowa_file_path = \"/content/drive/My Drive/Colab Notebooks/Kaggle_Files/Machine-Learning/train.csv\"\n",
        "home_data = pd.read_csv(iowa_file_path)"
      ],
      "execution_count": 3,
      "outputs": []
    },
    {
      "cell_type": "code",
      "metadata": {
        "id": "dZZHNc7Nz6Vm",
        "colab_type": "code",
        "colab": {
          "base_uri": "https://localhost:8080/",
          "height": 87
        },
        "outputId": "4966530c-6520-4317-8d40-2aaeb24a7a86"
      },
      "source": [
        "from sklearn.metrics import mean_absolute_error\n",
        "from sklearn.model_selection import train_test_split\n",
        "from sklearn.tree import DecisionTreeRegressor\n",
        "\n",
        "# Create target object and call it y\n",
        "y = home_data.SalePrice\n",
        "# Create X\n",
        "features = ['LotArea', 'YearBuilt', '1stFlrSF', '2ndFlrSF', 'FullBath', 'BedroomAbvGr', 'TotRmsAbvGrd']\n",
        "X = home_data[features]\n",
        "\n",
        "# Split into validation and training data\n",
        "train_X, val_X, train_y, val_y = train_test_split(X, y, random_state=1)\n",
        "\n",
        "# Specify Model\n",
        "iowa_model = DecisionTreeRegressor(random_state=1)\n",
        "# Fit Model\n",
        "iowa_model.fit(train_X, train_y)\n",
        "\n",
        "# Make validation predictions and calculate mean absolute error\n",
        "val_predictions = iowa_model.predict(val_X)\n",
        "val_mae = mean_absolute_error(val_predictions, val_y)\n",
        "print(\"Validation MAE when not specifying max_leaf_nodes: {:,.0f}\".format(val_mae))\n",
        "\n",
        "# Using best value for max_leaf_nodes\n",
        "iowa_model = DecisionTreeRegressor(max_leaf_nodes=100, random_state=1)\n",
        "iowa_model.fit(train_X, train_y)\n",
        "val_predictions = iowa_model.predict(val_X)\n",
        "val_mae = mean_absolute_error(val_predictions, val_y)\n",
        "print(\"Validation MAE for best value of max_leaf_nodes: {:,.0f}\".format(val_mae))\n",
        "\n",
        "\n",
        "# Set up code checking\n",
        "from learntools.core import binder\n",
        "binder.bind(globals())\n",
        "from learntools.machine_learning.ex6 import *\n",
        "print(\"\\nSetup complete\")"
      ],
      "execution_count": 4,
      "outputs": [
        {
          "output_type": "stream",
          "text": [
            "Validation MAE when not specifying max_leaf_nodes: 29,653\n",
            "Validation MAE for best value of max_leaf_nodes: 27,283\n",
            "\n",
            "Setup complete\n"
          ],
          "name": "stdout"
        }
      ]
    },
    {
      "cell_type": "markdown",
      "metadata": {
        "id": "3bgojdtD0OG1",
        "colab_type": "text"
      },
      "source": [
        "#Exercises\n",
        "Data science isn't always this easy. But replacing the decision tree with a Random Forest is going to be an easy win.\n",
        "\n",
        "###Step 1: Use a Random Forest"
      ]
    },
    {
      "cell_type": "code",
      "metadata": {
        "id": "1PlVAIta0d9L",
        "colab_type": "code",
        "colab": {
          "base_uri": "https://localhost:8080/",
          "height": 64
        },
        "outputId": "114b327e-ca93-4d0b-c529-49944e0b22ae"
      },
      "source": [
        "from sklearn.ensemble import RandomForestRegressor\n",
        "\n",
        "# Define the model. Set random_state to 1\n",
        "rf_model = RandomForestRegressor(random_state=1)\n",
        "\n",
        "# fit your model\n",
        "rf_model.fit(train_X, train_y)\n",
        "\n",
        "# Calculate the mean absolute error of your Random Forest model on the validation data\n",
        "rf_predictions = rf_model.predict(val_X)\n",
        "rf_val_mae = mean_absolute_error(val_y, rf_predictions)\n",
        "print(\"Validation MAE for Random Forest Model: {}\".format(rf_val_mae))\n",
        "\n",
        "# Check your answer\n",
        "step_1.check()"
      ],
      "execution_count": 5,
      "outputs": [
        {
          "output_type": "stream",
          "text": [
            "Validation MAE for Random Forest Model: 21857.15912981083\n"
          ],
          "name": "stdout"
        },
        {
          "output_type": "display_data",
          "data": {
            "application/javascript": [
              "parent.postMessage({\"jupyterEvent\": \"custom.exercise_interaction\", \"data\": {\"outcomeType\": 1, \"valueTowardsCompletion\": 1.0, \"interactionType\": 1, \"questionType\": 2, \"questionId\": \"1_CheckRfScore\", \"learnToolsVersion\": \"0.3.4\", \"failureMessage\": \"\", \"exceptionClass\": \"\", \"trace\": \"\"}}, \"*\")"
            ],
            "text/plain": [
              "<IPython.core.display.Javascript object>"
            ]
          },
          "metadata": {
            "tags": []
          }
        },
        {
          "output_type": "display_data",
          "data": {
            "text/markdown": "<span style=\"color:#33cc33\">Correct</span>",
            "text/plain": [
              "Correct"
            ]
          },
          "metadata": {
            "tags": []
          }
        }
      ]
    }
  ]
}